{
  "cells": [
    {
      "cell_type": "code",
      "execution_count": 7,
      "metadata": {
        "id": "RAXlS0a7PrjR"
      },
      "outputs": [],
      "source": [
        "# import kagglehub\n",
        "import os\n",
        "import torch\n",
        "import numpy as np\n",
        "import pandas as pd\n",
        "import matplotlib.pyplot as plt\n",
        "import torch.nn as nn\n",
        "from torch.utils.data import DataLoader\n",
        "from torchvision import models, transforms\n",
        "from sklearn.model_selection import train_test_split\n",
        "from sklearn.metrics import accuracy_score\n",
        "from collections import defaultdict\n",
        "from tqdm import tqdm\n",
        "from PIL import Image\n",
        "\n",
        "BATCH_SIZE = 512\n",
        "NUM_EPOCHS = 30\n",
        "LR = 0.01\n",
        "device = torch.device(\"cuda\" if torch.cuda.is_available() else \"cpu\")\n",
        "SEED = 42\n",
        "\n",
        "torch.manual_seed(SEED)\n",
        "np.random.seed(SEED)"
      ]
    },
    {
      "cell_type": "code",
      "execution_count": 8,
      "metadata": {
        "id": "yr_5opYzPx0q"
      },
      "outputs": [],
      "source": [
        "# =========================================\n",
        "# 2. Data Utilities\n",
        "# =========================================\n",
        "def load_dataframes(dataset_path):\n",
        "    meta = pd.read_csv(os.path.join(dataset_path, 'Meta.csv'))\n",
        "    train = pd.read_csv(os.path.join(dataset_path, 'Train.csv'))\n",
        "    test = pd.read_csv(os.path.join(dataset_path, 'Test.csv'))\n",
        "    return meta, train, test\n",
        "\n",
        "def get_transforms(train=True):\n",
        "  if train:\n",
        "    return transforms.Compose([\n",
        "      transforms.Resize((256, 256)),\n",
        "      transforms.RandomResizedCrop(224, scale=(0.8, 1.0)),\n",
        "      transforms.RandomHorizontalFlip(0.2),\n",
        "      transforms.ColorJitter(brightness=0.05, contrast=0.05, saturation=0.05, hue=0.02),\n",
        "      transforms.ToTensor(),\n",
        "      transforms.Normalize([0.485, 0.456, 0.406], [0.229, 0.224, 0.225])\n",
        "    ])\n",
        "  else:\n",
        "    return transforms.Compose([\n",
        "      transforms.Resize((240, 240)),\n",
        "      transforms.CenterCrop(224),\n",
        "      transforms.ToTensor(),\n",
        "      transforms.Normalize([0.485, 0.456, 0.406], [0.229, 0.224, 0.225])\n",
        "    ])\n",
        "\n",
        "class TrafficSignDataset(torch.utils.data.Dataset):\n",
        "    def __init__(self, image_paths, labels, transform=None):\n",
        "        self.image_paths = image_paths\n",
        "        self.labels = labels\n",
        "        self.transform = transform\n",
        "\n",
        "    def __getitem__(self, idx):\n",
        "        img = Image.open(self.image_paths.iloc[idx]).convert('RGB')\n",
        "        if self.transform:\n",
        "            img = self.transform(img)\n",
        "        return img, self.labels.iloc[idx]\n",
        "\n",
        "    def __len__(self):\n",
        "        return len(self.image_paths)"
      ]
    },
    {
      "cell_type": "code",
      "execution_count": 9,
      "metadata": {
        "id": "KqfpspwyP16o"
      },
      "outputs": [],
      "source": [
        "import torch\n",
        "import torch.nn as nn\n",
        "from torchvision import models\n",
        "\n",
        "class CNNModel(nn.Module):\n",
        "    def __init__(self, num_classes, pretrained=True, fine_tune_last_blocks=True, dropout_rate=0.4):\n",
        "        super().__init__()\n",
        "\n",
        "        # Load MobileNetV2\n",
        "        if pretrained:\n",
        "            self.model = models.mobilenet_v2(weights=models.MobileNet_V2_Weights.IMAGENET1K_V1)\n",
        "        else:\n",
        "            self.model = models.mobilenet_v2(weights=None)\n",
        "\n",
        "        # Get the number of input features to the classifier\n",
        "        self.features_dim = self.model.classifier[1].in_features\n",
        "\n",
        "        # Freeze all layers first\n",
        "        for p in self.model.parameters():\n",
        "            p.requires_grad = False\n",
        "\n",
        "        # Optionally unfreeze last few blocks for fine-tuning\n",
        "        if pretrained and fine_tune_last_blocks:\n",
        "            for name, param in self.model.features.named_parameters():\n",
        "                # Unfreeze last two inverted residual blocks (blocks 17 and 18 in MobileNetV2)\n",
        "                if '17' in name or '18' in name:\n",
        "                    param.requires_grad = True\n",
        "\n",
        "        # Replace classifier with custom one\n",
        "        self.classifier = nn.Sequential(\n",
        "            nn.Dropout(p=dropout_rate),\n",
        "            nn.Linear(self.features_dim, 512),\n",
        "            nn.ReLU(),\n",
        "            nn.Dropout(p=dropout_rate),\n",
        "            nn.Linear(512, num_classes)\n",
        "        )\n",
        "        self.model.classifier = self.classifier\n",
        "\n",
        "    def forward(self, x):\n",
        "        return self.model(x)\n"
      ]
    },
    {
      "cell_type": "code",
      "execution_count": 10,
      "metadata": {
        "id": "KMAQMkQ4P_fk"
      },
      "outputs": [],
      "source": [
        "# =========================================\n",
        "# 4. Training & Evaluation\n",
        "# =========================================\n",
        "import gc\n",
        "\n",
        "def train_Model(model, train_loader, val_loader, criterion, optimizer, scheduler, num_epochs=10):\n",
        "    best_acc = 0.0\n",
        "    patience = 4\n",
        "    early_stop_counter = 0\n",
        "    history = defaultdict(list)\n",
        "    warmup_epochs = 4\n",
        "    max_grad_norm = 1.0\n",
        "\n",
        "    for epoch in range(num_epochs):\n",
        "        # Warmup learning rate\n",
        "        if epoch <= warmup_epochs:\n",
        "            lr = min(1, (epoch + 1) / warmup_epochs)\n",
        "            for param_group in optimizer.param_groups:\n",
        "                param_group['lr'] = lr * param_group['initial_lr']\n",
        "\n",
        "        model.train()\n",
        "        running_loss = 0.0\n",
        "        train_predictions = []\n",
        "        train_true_labels = []\n",
        "\n",
        "        train_bar = tqdm(train_loader, desc=f'Epoch {epoch + 1}/{num_epochs}', unit='batch')\n",
        "        for images, labels in train_bar:\n",
        "            optimizer.zero_grad(set_to_none=True)\n",
        "            images = images.to(device, non_blocking=True)\n",
        "            labels = labels.to(device)\n",
        "\n",
        "            outputs = model(images)\n",
        "            loss = criterion(outputs, labels)\n",
        "            loss.backward()\n",
        "\n",
        "            nn.utils.clip_grad_norm_(model.parameters(), max_grad_norm)\n",
        "            optimizer.step()\n",
        "\n",
        "            running_loss += loss.item() * images.size(0)\n",
        "            _, preds = torch.max(outputs, 1)\n",
        "            train_predictions.append(preds.detach().cpu())\n",
        "            train_true_labels.append(labels.detach().cpu())\n",
        "\n",
        "            train_bar.set_postfix(loss=loss.item())\n",
        "\n",
        "        train_preds_tensor = torch.cat(train_predictions)\n",
        "        train_labels_tensor = torch.cat(train_true_labels)\n",
        "        train_acc = (train_preds_tensor == train_labels_tensor).float().mean().item()\n",
        "        train_loss = running_loss / len(train_loader.dataset)\n",
        "\n",
        "        avg_loss, accuracy = evaluate_model(model, val_loader, criterion)\n",
        "\n",
        "        history['train_loss'].append(train_loss)\n",
        "        history['train_accuracy'].append(train_acc)\n",
        "        history['val_loss'].append(avg_loss)\n",
        "        history['val_accuracy'].append(accuracy)\n",
        "\n",
        "        print(f'Epoch [{epoch + 1}/{num_epochs}], Train Loss: {train_loss:.4f}, Train Acc: {train_acc:.4f}, Val Loss: {avg_loss:.4f}, Val Acc: {accuracy:.4f}')\n",
        "        print(f'patience counter: {early_stop_counter}/{patience}')\n",
        "\n",
        "        if accuracy > best_acc:\n",
        "            best_acc = accuracy\n",
        "            early_stop_counter = 0\n",
        "        else:\n",
        "            early_stop_counter += 1\n",
        "\n",
        "        if early_stop_counter >= patience:\n",
        "            print(f'Early stopping at epoch {epoch + 1}')\n",
        "            break\n",
        "\n",
        "        if epoch >= warmup_epochs:\n",
        "            scheduler.step(avg_loss)\n",
        "\n",
        "        # 🧹 Free up GPU memory at the end of the epoch\n",
        "        torch.cuda.empty_cache()\n",
        "        gc.collect()\n",
        "\n",
        "    return model, history\n",
        "\n",
        "\n",
        "\n",
        "def evaluate_model(model, data_loader, criterion, phase='val'):\n",
        "  model.eval()\n",
        "  running_loss = 0.0\n",
        "  all_predictions = []\n",
        "  all_true_labels = []\n",
        "\n",
        "  with torch.no_grad():\n",
        "    for images, labels in tqdm(data_loader, desc=f\"Evaluating {phase}\"):\n",
        "      images = images.to(device)\n",
        "      labels = labels.to(device)\n",
        "      outputs = model(images)\n",
        "      loss = criterion(outputs, labels)\n",
        "\n",
        "      running_loss += loss.item() * images.size(0)\n",
        "      _, preds = torch.max(outputs, 1)\n",
        "\n",
        "      all_predictions.extend(preds.cpu().numpy())\n",
        "      all_true_labels.extend(labels.cpu().numpy())\n",
        "\n",
        "  avg_loss = running_loss / len(data_loader.dataset)\n",
        "  accuracy = accuracy_score(all_true_labels, all_predictions)\n",
        "\n",
        "  return avg_loss, accuracy"
      ]
    },
    {
      "cell_type": "code",
      "execution_count": 11,
      "metadata": {
        "id": "WvmEaSzrQBiC"
      },
      "outputs": [],
      "source": [
        "# =========================================\n",
        "# 5. Visualization Functions\n",
        "# =========================================\n",
        "def plot_training_curves(history):\n",
        "    plt.figure(figsize=(12, 5))\n",
        "    plt.subplot(1, 2, 1)\n",
        "    plt.plot(history['train_loss'], label='Train Loss')\n",
        "    plt.plot(history['val_loss'], label='Val Loss')\n",
        "    plt.legend()\n",
        "    plt.subplot(1, 2, 2)\n",
        "    plt.plot(history['train_accuracy'], label='Train Acc')\n",
        "    plt.plot(history['val_accuracy'], label='Val Acc')\n",
        "    plt.legend()\n",
        "    plt.show()\n",
        "\n",
        "def show_sample_predictions(model, loader, class_names, n=10):\n",
        "    model.eval()\n",
        "    images, labels = next(iter(loader))\n",
        "    outputs = model(images.to(device))\n",
        "    _, preds = torch.max(outputs, 1)\n",
        "    plt.figure(figsize=(15, 5))\n",
        "    for i in range(n):\n",
        "        plt.subplot(2, n//2, i+1)\n",
        "        img = images[i].permute(1, 2, 0).cpu().numpy()\n",
        "        img = (img - img.min()) / (img.max() - img.min())  # unnormalize\n",
        "        plt.imshow(img)\n",
        "        plt.title(f\"True: {class_names[labels[i]]}\\nPred: {class_names[preds[i]]}\")\n",
        "        plt.axis('off')\n",
        "    plt.show()"
      ]
    },
    {
      "cell_type": "code",
      "execution_count": 12,
      "metadata": {
        "colab": {
          "base_uri": "https://localhost:8080/"
        },
        "id": "X7-7L7exQECW",
        "outputId": "d58cabf8-7bfd-4f33-f5e3-486aece48cea"
      },
      "outputs": [
        {
          "name": "stdout",
          "output_type": "stream",
          "text": [
            "Path to dataset files: /kaggle/input/gtsrb-german-traffic-sign\n",
            "Number of classes: 43\n"
          ]
        },
        {
          "name": "stderr",
          "output_type": "stream",
          "text": [
            "Downloading: \"https://download.pytorch.org/models/mobilenet_v2-b0353104.pth\" to /root/.cache/torch/hub/checkpoints/mobilenet_v2-b0353104.pth\n",
            "100%|██████████| 13.6M/13.6M [00:00<00:00, 34.6MB/s]\n",
            "/usr/local/lib/python3.11/dist-packages/torch/optim/lr_scheduler.py:62: UserWarning: The verbose parameter is deprecated. Please use get_last_lr() to access the learning rate.\n",
            "  warnings.warn(\n",
            "Epoch 1/30: 100%|██████████| 54/54 [04:31<00:00,  5.03s/batch, loss=1.49]\n",
            "Evaluating val: 100%|██████████| 23/23 [00:56<00:00,  2.46s/it]\n"
          ]
        },
        {
          "name": "stdout",
          "output_type": "stream",
          "text": [
            "Epoch [1/30], Train Loss: 2.3202, Train Acc: 0.4167, Val Loss: 1.4339, Val Acc: 0.6755\n",
            "patience counter: 0/4\n"
          ]
        },
        {
          "name": "stderr",
          "output_type": "stream",
          "text": [
            "Epoch 2/30: 100%|██████████| 54/54 [03:37<00:00,  4.03s/batch, loss=0.899]\n",
            "Evaluating val: 100%|██████████| 23/23 [00:27<00:00,  1.21s/it]\n"
          ]
        },
        {
          "name": "stdout",
          "output_type": "stream",
          "text": [
            "Epoch [2/30], Train Loss: 1.1341, Train Acc: 0.7648, Val Loss: 0.8338, Val Acc: 0.8703\n",
            "patience counter: 0/4\n"
          ]
        },
        {
          "name": "stderr",
          "output_type": "stream",
          "text": [
            "Epoch 3/30: 100%|██████████| 54/54 [03:27<00:00,  3.85s/batch, loss=0.79]\n",
            "Evaluating val: 100%|██████████| 23/23 [00:29<00:00,  1.26s/it]\n"
          ]
        },
        {
          "name": "stdout",
          "output_type": "stream",
          "text": [
            "Epoch [3/30], Train Loss: 0.7997, Train Acc: 0.8831, Val Loss: 0.6715, Val Acc: 0.9235\n",
            "patience counter: 0/4\n"
          ]
        },
        {
          "name": "stderr",
          "output_type": "stream",
          "text": [
            "Epoch 4/30: 100%|██████████| 54/54 [03:32<00:00,  3.94s/batch, loss=0.693]\n",
            "Evaluating val: 100%|██████████| 23/23 [00:28<00:00,  1.24s/it]\n"
          ]
        },
        {
          "name": "stdout",
          "output_type": "stream",
          "text": [
            "Epoch [4/30], Train Loss: 0.6927, Train Acc: 0.9190, Val Loss: 0.6573, Val Acc: 0.9249\n",
            "patience counter: 0/4\n"
          ]
        },
        {
          "name": "stderr",
          "output_type": "stream",
          "text": [
            "Epoch 5/30: 100%|██████████| 54/54 [03:28<00:00,  3.86s/batch, loss=0.579]\n",
            "Evaluating val: 100%|██████████| 23/23 [00:27<00:00,  1.21s/it]\n"
          ]
        },
        {
          "name": "stdout",
          "output_type": "stream",
          "text": [
            "Epoch [5/30], Train Loss: 0.6252, Train Acc: 0.9420, Val Loss: 0.6079, Val Acc: 0.9402\n",
            "patience counter: 0/4\n"
          ]
        },
        {
          "name": "stderr",
          "output_type": "stream",
          "text": [
            "Epoch 6/30: 100%|██████████| 54/54 [03:28<00:00,  3.86s/batch, loss=0.584]\n",
            "Evaluating val: 100%|██████████| 23/23 [00:28<00:00,  1.23s/it]\n"
          ]
        },
        {
          "name": "stdout",
          "output_type": "stream",
          "text": [
            "Epoch [6/30], Train Loss: 0.5847, Train Acc: 0.9564, Val Loss: 0.5549, Val Acc: 0.9609\n",
            "patience counter: 0/4\n"
          ]
        },
        {
          "name": "stderr",
          "output_type": "stream",
          "text": [
            "Epoch 7/30: 100%|██████████| 54/54 [03:27<00:00,  3.85s/batch, loss=0.557]\n",
            "Evaluating val: 100%|██████████| 23/23 [00:28<00:00,  1.26s/it]\n"
          ]
        },
        {
          "name": "stdout",
          "output_type": "stream",
          "text": [
            "Epoch [7/30], Train Loss: 0.5529, Train Acc: 0.9652, Val Loss: 0.5281, Val Acc: 0.9668\n",
            "patience counter: 0/4\n"
          ]
        },
        {
          "name": "stderr",
          "output_type": "stream",
          "text": [
            "Epoch 8/30: 100%|██████████| 54/54 [03:29<00:00,  3.89s/batch, loss=0.549]\n",
            "Evaluating val: 100%|██████████| 23/23 [00:27<00:00,  1.21s/it]\n"
          ]
        },
        {
          "name": "stdout",
          "output_type": "stream",
          "text": [
            "Epoch [8/30], Train Loss: 0.5362, Train Acc: 0.9696, Val Loss: 0.5301, Val Acc: 0.9638\n",
            "patience counter: 0/4\n"
          ]
        },
        {
          "name": "stderr",
          "output_type": "stream",
          "text": [
            "Epoch 9/30: 100%|██████████| 54/54 [03:34<00:00,  3.97s/batch, loss=0.518]\n",
            "Evaluating val: 100%|██████████| 23/23 [00:31<00:00,  1.35s/it]\n"
          ]
        },
        {
          "name": "stdout",
          "output_type": "stream",
          "text": [
            "Epoch [9/30], Train Loss: 0.5160, Train Acc: 0.9757, Val Loss: 0.5051, Val Acc: 0.9733\n",
            "patience counter: 1/4\n"
          ]
        },
        {
          "name": "stderr",
          "output_type": "stream",
          "text": [
            "Epoch 10/30: 100%|██████████| 54/54 [03:30<00:00,  3.90s/batch, loss=0.491]\n",
            "Evaluating val: 100%|██████████| 23/23 [00:27<00:00,  1.21s/it]\n"
          ]
        },
        {
          "name": "stdout",
          "output_type": "stream",
          "text": [
            "Epoch [10/30], Train Loss: 0.5011, Train Acc: 0.9811, Val Loss: 0.4971, Val Acc: 0.9742\n",
            "patience counter: 0/4\n"
          ]
        },
        {
          "name": "stderr",
          "output_type": "stream",
          "text": [
            "Epoch 11/30: 100%|██████████| 54/54 [03:29<00:00,  3.89s/batch, loss=0.502]\n",
            "Evaluating val: 100%|██████████| 23/23 [00:27<00:00,  1.21s/it]\n"
          ]
        },
        {
          "name": "stdout",
          "output_type": "stream",
          "text": [
            "Epoch [11/30], Train Loss: 0.4981, Train Acc: 0.9805, Val Loss: 0.4919, Val Acc: 0.9736\n",
            "patience counter: 0/4\n"
          ]
        },
        {
          "name": "stderr",
          "output_type": "stream",
          "text": [
            "Epoch 12/30: 100%|██████████| 54/54 [03:29<00:00,  3.88s/batch, loss=0.502]\n",
            "Evaluating val: 100%|██████████| 23/23 [00:28<00:00,  1.24s/it]\n"
          ]
        },
        {
          "name": "stdout",
          "output_type": "stream",
          "text": [
            "Epoch [12/30], Train Loss: 0.4927, Train Acc: 0.9815, Val Loss: 0.4915, Val Acc: 0.9745\n",
            "patience counter: 1/4\n"
          ]
        },
        {
          "name": "stderr",
          "output_type": "stream",
          "text": [
            "Epoch 13/30: 100%|██████████| 54/54 [03:29<00:00,  3.88s/batch, loss=0.486]\n",
            "Evaluating val: 100%|██████████| 23/23 [00:27<00:00,  1.22s/it]\n"
          ]
        },
        {
          "name": "stdout",
          "output_type": "stream",
          "text": [
            "Epoch [13/30], Train Loss: 0.4858, Train Acc: 0.9839, Val Loss: 0.4849, Val Acc: 0.9766\n",
            "patience counter: 0/4\n"
          ]
        },
        {
          "name": "stderr",
          "output_type": "stream",
          "text": [
            "Epoch 14/30: 100%|██████████| 54/54 [03:29<00:00,  3.88s/batch, loss=0.474]\n",
            "Evaluating val: 100%|██████████| 23/23 [00:27<00:00,  1.21s/it]\n"
          ]
        },
        {
          "name": "stdout",
          "output_type": "stream",
          "text": [
            "Epoch [14/30], Train Loss: 0.4785, Train Acc: 0.9862, Val Loss: 0.4773, Val Acc: 0.9778\n",
            "patience counter: 0/4\n"
          ]
        },
        {
          "name": "stderr",
          "output_type": "stream",
          "text": [
            "Epoch 15/30: 100%|██████████| 54/54 [03:28<00:00,  3.87s/batch, loss=0.479]\n",
            "Evaluating val: 100%|██████████| 23/23 [00:27<00:00,  1.20s/it]\n"
          ]
        },
        {
          "name": "stdout",
          "output_type": "stream",
          "text": [
            "Epoch [15/30], Train Loss: 0.4747, Train Acc: 0.9871, Val Loss: 0.4789, Val Acc: 0.9775\n",
            "patience counter: 0/4\n"
          ]
        },
        {
          "name": "stderr",
          "output_type": "stream",
          "text": [
            "Epoch 16/30: 100%|██████████| 54/54 [03:28<00:00,  3.86s/batch, loss=0.467]\n",
            "Evaluating val: 100%|██████████| 23/23 [00:27<00:00,  1.20s/it]\n"
          ]
        },
        {
          "name": "stdout",
          "output_type": "stream",
          "text": [
            "Epoch [16/30], Train Loss: 0.4700, Train Acc: 0.9877, Val Loss: 0.4778, Val Acc: 0.9772\n",
            "patience counter: 1/4\n"
          ]
        },
        {
          "name": "stderr",
          "output_type": "stream",
          "text": [
            "Epoch 17/30: 100%|██████████| 54/54 [03:27<00:00,  3.85s/batch, loss=0.462]\n",
            "Evaluating val: 100%|██████████| 23/23 [00:27<00:00,  1.21s/it]\n"
          ]
        },
        {
          "name": "stdout",
          "output_type": "stream",
          "text": [
            "Epoch [17/30], Train Loss: 0.4655, Train Acc: 0.9886, Val Loss: 0.4677, Val Acc: 0.9793\n",
            "patience counter: 2/4\n"
          ]
        },
        {
          "name": "stderr",
          "output_type": "stream",
          "text": [
            "Epoch 18/30: 100%|██████████| 54/54 [03:28<00:00,  3.86s/batch, loss=0.469]\n",
            "Evaluating val: 100%|██████████| 23/23 [00:27<00:00,  1.20s/it]\n"
          ]
        },
        {
          "name": "stdout",
          "output_type": "stream",
          "text": [
            "Epoch [18/30], Train Loss: 0.4621, Train Acc: 0.9892, Val Loss: 0.4651, Val Acc: 0.9806\n",
            "patience counter: 0/4\n"
          ]
        },
        {
          "name": "stderr",
          "output_type": "stream",
          "text": [
            "Epoch 19/30: 100%|██████████| 54/54 [03:27<00:00,  3.85s/batch, loss=0.443]\n",
            "Evaluating val: 100%|██████████| 23/23 [00:28<00:00,  1.23s/it]\n"
          ]
        },
        {
          "name": "stdout",
          "output_type": "stream",
          "text": [
            "Epoch [19/30], Train Loss: 0.4571, Train Acc: 0.9908, Val Loss: 0.4662, Val Acc: 0.9784\n",
            "patience counter: 0/4\n"
          ]
        },
        {
          "name": "stderr",
          "output_type": "stream",
          "text": [
            "Epoch 20/30: 100%|██████████| 54/54 [03:27<00:00,  3.85s/batch, loss=0.465]\n",
            "Evaluating val: 100%|██████████| 23/23 [00:28<00:00,  1.25s/it]\n"
          ]
        },
        {
          "name": "stdout",
          "output_type": "stream",
          "text": [
            "Epoch [20/30], Train Loss: 0.4605, Train Acc: 0.9893, Val Loss: 0.4595, Val Acc: 0.9826\n",
            "patience counter: 1/4\n"
          ]
        },
        {
          "name": "stderr",
          "output_type": "stream",
          "text": [
            "Epoch 21/30: 100%|██████████| 54/54 [03:26<00:00,  3.83s/batch, loss=0.458]\n",
            "Evaluating val: 100%|██████████| 23/23 [00:27<00:00,  1.20s/it]\n"
          ]
        },
        {
          "name": "stdout",
          "output_type": "stream",
          "text": [
            "Epoch [21/30], Train Loss: 0.4560, Train Acc: 0.9908, Val Loss: 0.4600, Val Acc: 0.9831\n",
            "patience counter: 0/4\n"
          ]
        },
        {
          "name": "stderr",
          "output_type": "stream",
          "text": [
            "Epoch 22/30: 100%|██████████| 54/54 [03:26<00:00,  3.83s/batch, loss=0.452]\n",
            "Evaluating val: 100%|██████████| 23/23 [00:27<00:00,  1.21s/it]\n"
          ]
        },
        {
          "name": "stdout",
          "output_type": "stream",
          "text": [
            "Epoch [22/30], Train Loss: 0.4554, Train Acc: 0.9907, Val Loss: 0.4650, Val Acc: 0.9798\n",
            "patience counter: 0/4\n"
          ]
        },
        {
          "name": "stderr",
          "output_type": "stream",
          "text": [
            "Epoch 23/30: 100%|██████████| 54/54 [03:27<00:00,  3.83s/batch, loss=0.473]\n",
            "Evaluating val: 100%|██████████| 23/23 [00:27<00:00,  1.20s/it]\n"
          ]
        },
        {
          "name": "stdout",
          "output_type": "stream",
          "text": [
            "Epoch [23/30], Train Loss: 0.4517, Train Acc: 0.9913, Val Loss: 0.4518, Val Acc: 0.9847\n",
            "patience counter: 1/4\n"
          ]
        },
        {
          "name": "stderr",
          "output_type": "stream",
          "text": [
            "Epoch 24/30: 100%|██████████| 54/54 [03:27<00:00,  3.85s/batch, loss=0.441]\n",
            "Evaluating val: 100%|██████████| 23/23 [00:27<00:00,  1.21s/it]\n"
          ]
        },
        {
          "name": "stdout",
          "output_type": "stream",
          "text": [
            "Epoch [24/30], Train Loss: 0.4483, Train Acc: 0.9924, Val Loss: 0.4536, Val Acc: 0.9839\n",
            "patience counter: 0/4\n"
          ]
        },
        {
          "name": "stderr",
          "output_type": "stream",
          "text": [
            "Epoch 25/30: 100%|██████████| 54/54 [03:27<00:00,  3.84s/batch, loss=0.439]\n",
            "Evaluating val: 100%|██████████| 23/23 [00:27<00:00,  1.20s/it]\n"
          ]
        },
        {
          "name": "stdout",
          "output_type": "stream",
          "text": [
            "Epoch [25/30], Train Loss: 0.4433, Train Acc: 0.9940, Val Loss: 0.4523, Val Acc: 0.9844\n",
            "patience counter: 1/4\n"
          ]
        },
        {
          "name": "stderr",
          "output_type": "stream",
          "text": [
            "Epoch 26/30: 100%|██████████| 54/54 [03:27<00:00,  3.83s/batch, loss=0.436]\n",
            "Evaluating val: 100%|██████████| 23/23 [00:27<00:00,  1.20s/it]\n"
          ]
        },
        {
          "name": "stdout",
          "output_type": "stream",
          "text": [
            "Epoch [26/30], Train Loss: 0.4437, Train Acc: 0.9926, Val Loss: 0.4517, Val Acc: 0.9832\n",
            "patience counter: 2/4\n"
          ]
        },
        {
          "name": "stderr",
          "output_type": "stream",
          "text": [
            "Epoch 27/30: 100%|██████████| 54/54 [03:26<00:00,  3.83s/batch, loss=0.435]\n",
            "Evaluating val: 100%|██████████| 23/23 [00:27<00:00,  1.20s/it]"
          ]
        },
        {
          "name": "stdout",
          "output_type": "stream",
          "text": [
            "Epoch [27/30], Train Loss: 0.4438, Train Acc: 0.9937, Val Loss: 0.4505, Val Acc: 0.9843\n",
            "patience counter: 3/4\n",
            "Early stopping at epoch 27\n"
          ]
        },
        {
          "name": "stderr",
          "output_type": "stream",
          "text": [
            "\n"
          ]
        }
      ],
      "source": [
        "if __name__ == \"__main__\":\n",
        "    dataset_path = \"Data/\"\n",
        "    print(\"Path to dataset files:\", dataset_path)\n",
        "\n",
        "    meta, train_df, test_df = load_dataframes(dataset_path)\n",
        "    num_classes = meta['ClassId'].nunique()\n",
        "    print(f\"Number of classes: {num_classes}\")\n",
        "\n",
        "    train_df['Path'] = train_df['Path'].str.replace('Train/', os.path.join(dataset_path, 'Train/'))\n",
        "    test_df['Path'] = test_df['Path'].str.replace('Test/', os.path.join(dataset_path, 'Test/'))\n",
        "\n",
        "    X_train, X_val, y_train, y_val = train_test_split(\n",
        "        train_df['Path'],\n",
        "        train_df['ClassId'],\n",
        "        test_size=0.3,\n",
        "        random_state=SEED,\n",
        "        stratify=train_df['ClassId']\n",
        "    )\n",
        "\n",
        "    train_dataset = TrafficSignDataset(X_train.reset_index(drop=True), y_train.reset_index(drop=True), get_transforms(train=True))\n",
        "    val_dataset = TrafficSignDataset(X_val.reset_index(drop=True), y_val.reset_index(drop=True), get_transforms(train=False))\n",
        "    test_dataset = TrafficSignDataset(test_df['Path'], test_df['ClassId'], get_transforms(train=False))\n",
        "\n",
        "    train_loader = DataLoader(train_dataset, batch_size=BATCH_SIZE, shuffle=True, num_workers=2, prefetch_factor=2)\n",
        "    val_loader = DataLoader(val_dataset, batch_size=BATCH_SIZE, shuffle=False, num_workers=2, prefetch_factor=2)\n",
        "    test_loader = DataLoader(test_dataset, batch_size=BATCH_SIZE, shuffle=False, num_workers=2, prefetch_factor=2)\n",
        "\n",
        "    model = CNNModel(num_classes=num_classes, pretrained=True).to(device)\n",
        "\n",
        "    criterion = nn.CrossEntropyLoss(label_smoothing=0.05)\n",
        "    optimizer = torch.optim.AdamW(model.parameters(), lr=LR, weight_decay=0.01, betas=(0.9, 0.999))\n",
        "    for param_group in optimizer.param_groups:\n",
        "        param_group['initial_lr'] = param_group['lr']\n",
        "    scheduler = torch.optim.lr_scheduler.ReduceLROnPlateau(optimizer, mode='min', factor=0.3, patience=3, min_lr=1e-6, verbose=True)\n",
        "\n",
        "    model, history = train_Model(model, train_loader, val_loader, criterion, optimizer, scheduler, NUM_EPOCHS)"
      ]
    },
    {
      "cell_type": "code",
      "execution_count": 13,
      "metadata": {
        "colab": {
          "base_uri": "https://localhost:8080/",
          "height": 445
        },
        "id": "kxOED0qrsDn0",
        "outputId": "b1207da7-8a5e-43b6-f321-d4c1a79f9daf"
      },
      "outputs": [
        {
          "data": {
            "image/png": "[encoded data removed]",
            "text/plain": [
              "<Figure size 1200x500 with 2 Axes>"
            ]
          },
          "metadata": {},
          "output_type": "display_data"
        }
      ],
      "source": [
        "plot_training_curves(history)\n"
      ]
    },
    {
      "cell_type": "code",
      "execution_count": 14,
      "metadata": {
        "colab": {
          "base_uri": "https://localhost:8080/"
        },
        "id": "z2-DdTthsF_X",
        "outputId": "6ffafdaa-a85d-42b7-f92e-740f1a7dc4b2"
      },
      "outputs": [
        {
          "name": "stderr",
          "output_type": "stream",
          "text": [
            "Evaluating test: 100%|██████████| 25/25 [00:59<00:00,  2.38s/it]"
          ]
        },
        {
          "name": "stdout",
          "output_type": "stream",
          "text": [
            "Test Loss: 0.7307, Test Accuracy: 0.8947\n"
          ]
        },
        {
          "name": "stderr",
          "output_type": "stream",
          "text": [
            "\n"
          ]
        }
      ],
      "source": [
        "test_loss, test_acc = evaluate_model(model, test_loader, criterion, phase=\"test\")\n",
        "print(f\"Test Loss: {test_loss:.4f}, Test Accuracy: {test_acc:.4f}\")"
      ]
    }
  ],
  "metadata": {
    "accelerator": "GPU",
    "colab": {
      "gpuType": "T4",
      "provenance": [],
      "toc_visible": true
    },
    "kernelspec": {
      "display_name": "base",
      "language": "python",
      "name": "python3"
    },
    "language_info": {
      "name": "python",
      "version": "3.11.4"
    }
  },
  "nbformat": 4,
  "nbformat_minor": 0
}
